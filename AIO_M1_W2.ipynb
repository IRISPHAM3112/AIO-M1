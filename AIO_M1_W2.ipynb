{
  "nbformat": 4,
  "nbformat_minor": 0,
  "metadata": {
    "colab": {
      "provenance": [],
      "authorship_tag": "ABX9TyOUNEv9nFBciskMcNjwQQe5",
      "include_colab_link": true
    },
    "kernelspec": {
      "name": "python3",
      "display_name": "Python 3"
    },
    "language_info": {
      "name": "python"
    }
  },
  "cells": [
    {
      "cell_type": "markdown",
      "metadata": {
        "id": "view-in-github",
        "colab_type": "text"
      },
      "source": [
        "<a href=\"https://colab.research.google.com/github/IRISPHAM3112/AIO-M1/blob/main/AIO_M1_W2.ipynb\" target=\"_parent\"><img src=\"https://colab.research.google.com/assets/colab-badge.svg\" alt=\"Open In Colab\"/></a>"
      ]
    },
    {
      "cell_type": "code",
      "execution_count": 3,
      "metadata": {
        "colab": {
          "base_uri": "https://localhost:8080/"
        },
        "id": "J8-uUkuz2XDy",
        "outputId": "a13afd11-0279-47ea-d1a3-436deaf971d2"
      },
      "outputs": [
        {
          "output_type": "stream",
          "name": "stdout",
          "text": [
            "[5, 5, 5, 5, 10, 12, 33, 33]\n"
          ]
        }
      ],
      "source": [
        "#Exe1\n",
        "num_list = [3, 4, 5, 1, -44 , 5 ,10, 12 ,33, 1]\n",
        "k = 3\n",
        "sliding_window =[]\n",
        "output = []\n",
        "for i in num_list:\n",
        "  sliding_window.append(i)\n",
        "  if len(sliding_window) == k:\n",
        "    output.append(max(sliding_window))\n",
        "    sliding_window.pop(0)\n",
        "print(output)\n",
        ""
      ]
    },
    {
      "cell_type": "code",
      "source": [
        "#Exe2\n",
        "string = \"Happiness\"\n",
        "def count_chars(string):\n",
        "  chars = {}\n",
        "  for i in string:\n",
        "    if i in chars:\n",
        "      chars[i] += 1\n",
        "    else:\n",
        "      chars[i] = 1\n",
        "  return chars\n",
        "count_chars(string)"
      ],
      "metadata": {
        "colab": {
          "base_uri": "https://localhost:8080/"
        },
        "id": "eJfc4K363WOA",
        "outputId": "91b432ac-87ae-4927-fe00-2bdaed88ed52"
      },
      "execution_count": 12,
      "outputs": [
        {
          "output_type": "execute_result",
          "data": {
            "text/plain": [
              "{'H': 1, 'a': 1, 'p': 2, 'i': 1, 'n': 1, 'e': 1, 's': 2}"
            ]
          },
          "metadata": {},
          "execution_count": 12
        }
      ]
    },
    {
      "cell_type": "code",
      "source": [
        "#Exe3\n",
        "!gdown 1IBScGdW2xlNsc9v5zSAya548kNgiOrko\n",
        "file_path = '/content/P1_data.txt'\n",
        "with open('/content/P1_data.txt', 'r', encoding='utf-8') as file:\n",
        "    content = file.read()\n",
        "print(content)\n",
        "dict = {}\n",
        "def word_count(content):\n",
        "  words = content.lower().split()\n",
        "  for i in words:\n",
        "    if i in dict:\n",
        "      dict[i] +=1\n",
        "    else:\n",
        "      dict[i] = 1\n",
        "  return dict\n",
        "\n",
        "word_count(content )"
      ],
      "metadata": {
        "colab": {
          "base_uri": "https://localhost:8080/"
        },
        "id": "dAOfdVC08WZV",
        "outputId": "b9912b75-229b-46c7-ffdd-448c325c3f70"
      },
      "execution_count": 25,
      "outputs": [
        {
          "output_type": "stream",
          "name": "stdout",
          "text": [
            "Downloading...\n",
            "From: https://drive.google.com/uc?id=1IBScGdW2xlNsc9v5zSAya548kNgiOrko\n",
            "To: /content/P1_data.txt\n",
            "\r  0% 0.00/747 [00:00<?, ?B/s]\r100% 747/747 [00:00<00:00, 3.14MB/s]\n",
            "He who conquers himself is the mightiest warrior\n",
            "Try not to become a man of success but rather become a man of value\n",
            "One man with courage makes a majority\n",
            "One secret of success in life is for a man to be ready for his opportunity when it comes\n",
            "The successful man will profit from his mistakes and try again in a different way\n",
            "A successful man is one who can lay a firm foundation with the bricks others have thrown at him\n",
            "Success usually comes to those who are too busy looking for it\n",
            "We cannot solve problems with the kind of thinking we employed when we came up with them\n",
            "Just one small positive thought in the morning can change your whole day\n",
            "You can get everything in life you want if you will just help enough other people get what they want\n"
          ]
        },
        {
          "output_type": "execute_result",
          "data": {
            "text/plain": [
              "{'he': 1,\n",
              " 'who': 3,\n",
              " 'conquers': 1,\n",
              " 'himself': 1,\n",
              " 'is': 3,\n",
              " 'the': 5,\n",
              " 'mightiest': 1,\n",
              " 'warrior': 1,\n",
              " 'try': 2,\n",
              " 'not': 1,\n",
              " 'to': 3,\n",
              " 'become': 2,\n",
              " 'a': 7,\n",
              " 'man': 6,\n",
              " 'of': 4,\n",
              " 'success': 3,\n",
              " 'but': 1,\n",
              " 'rather': 1,\n",
              " 'value': 1,\n",
              " 'one': 4,\n",
              " 'with': 4,\n",
              " 'courage': 1,\n",
              " 'makes': 1,\n",
              " 'majority': 1,\n",
              " 'secret': 1,\n",
              " 'in': 4,\n",
              " 'life': 2,\n",
              " 'for': 3,\n",
              " 'be': 1,\n",
              " 'ready': 1,\n",
              " 'his': 2,\n",
              " 'opportunity': 1,\n",
              " 'when': 2,\n",
              " 'it': 2,\n",
              " 'comes': 2,\n",
              " 'successful': 2,\n",
              " 'will': 2,\n",
              " 'profit': 1,\n",
              " 'from': 1,\n",
              " 'mistakes': 1,\n",
              " 'and': 1,\n",
              " 'again': 1,\n",
              " 'different': 1,\n",
              " 'way': 1,\n",
              " 'can': 3,\n",
              " 'lay': 1,\n",
              " 'firm': 1,\n",
              " 'foundation': 1,\n",
              " 'bricks': 1,\n",
              " 'others': 1,\n",
              " 'have': 1,\n",
              " 'thrown': 1,\n",
              " 'at': 1,\n",
              " 'him': 1,\n",
              " 'usually': 1,\n",
              " 'those': 1,\n",
              " 'are': 1,\n",
              " 'too': 1,\n",
              " 'busy': 1,\n",
              " 'looking': 1,\n",
              " 'we': 3,\n",
              " 'cannot': 1,\n",
              " 'solve': 1,\n",
              " 'problems': 1,\n",
              " 'kind': 1,\n",
              " 'thinking': 1,\n",
              " 'employed': 1,\n",
              " 'came': 1,\n",
              " 'up': 1,\n",
              " 'them': 1,\n",
              " 'just': 2,\n",
              " 'small': 1,\n",
              " 'positive': 1,\n",
              " 'thought': 1,\n",
              " 'morning': 1,\n",
              " 'change': 1,\n",
              " 'your': 1,\n",
              " 'whole': 1,\n",
              " 'day': 1,\n",
              " 'you': 3,\n",
              " 'get': 2,\n",
              " 'everything': 1,\n",
              " 'want': 2,\n",
              " 'if': 1,\n",
              " 'help': 1,\n",
              " 'enough': 1,\n",
              " 'other': 1,\n",
              " 'people': 1,\n",
              " 'what': 1,\n",
              " 'they': 1}"
            ]
          },
          "metadata": {},
          "execution_count": 25
        }
      ]
    },
    {
      "cell_type": "code",
      "source": [
        "#Exe4\n",
        "source = \"yu\"\n",
        "target = \"you\"\n",
        "def count_step(source, target):\n",
        "  step = 0\n",
        "  source_chars = []\n",
        "  for i in source:\n",
        "    source_chars.append(i)\n",
        "  print(source_chars)\n",
        "  target_chars = []\n",
        "  for i in target:\n",
        "    target_chars.append(i)\n",
        "  print(target_chars)\n",
        "  if len(source_chars) != len(target_chars):\n",
        "    step = abs(len(source_chars) - len(target_chars))\n",
        "  if len(source_chars) < len(target_chars):\n",
        "    for i in range(len(source_chars)):\n",
        "      if source_chars[i] == target_chars[i]:\n",
        "        step == step\n",
        "      else: step +=1\n",
        "    return step\n",
        "  else:\n",
        "    for i in range(len(target_chars)):\n",
        "      if source_chars[i] == target_chars[i]:\n",
        "        step == step\n",
        "      else: step +=1\n",
        "    return step\n",
        "count_step(source, target)"
      ],
      "metadata": {
        "colab": {
          "base_uri": "https://localhost:8080/"
        },
        "id": "p6wyQc2eCONt",
        "outputId": "cf244cc9-6592-4bc7-9d55-462d7df09fb8"
      },
      "execution_count": 39,
      "outputs": [
        {
          "output_type": "stream",
          "name": "stdout",
          "text": [
            "['y', 'u']\n",
            "['y', 'o', 'u']\n"
          ]
        },
        {
          "output_type": "execute_result",
          "data": {
            "text/plain": [
              "2"
            ]
          },
          "metadata": {},
          "execution_count": 39
        }
      ]
    },
    {
      "cell_type": "code",
      "source": [],
      "metadata": {
        "id": "uwdCZQmuCP9B"
      },
      "execution_count": null,
      "outputs": []
    }
  ]
}