{
  "nbformat": 4,
  "nbformat_minor": 0,
  "metadata": {
    "colab": {
      "provenance": [],
      "mount_file_id": "19wMAlRP1MEg-1F0dOwrVX5oUYZ66h2AA",
      "authorship_tag": "ABX9TyPL9Un9t/OuzYVQQMC9a1zj",
      "include_colab_link": true
    },
    "kernelspec": {
      "name": "python3",
      "display_name": "Python 3"
    },
    "language_info": {
      "name": "python"
    }
  },
  "cells": [
    {
      "cell_type": "markdown",
      "metadata": {
        "id": "view-in-github",
        "colab_type": "text"
      },
      "source": [
        "<a href=\"https://colab.research.google.com/github/IRISPHAM3112/AIO-M1-W1/blob/main/M1_W1.ipynb\" target=\"_parent\"><img src=\"https://colab.research.google.com/assets/colab-badge.svg\" alt=\"Open In Colab\"/></a>"
      ]
    },
    {
      "cell_type": "code",
      "source": [
        "# Viết hàm classification model bằng F1-Score\n",
        "def validate_input(value, name):\n",
        "    if not isinstance(value, int):\n",
        "        raise ValueError(f'{name} must be int')\n",
        "    if value <= 0:\n",
        "        raise ValueError(f'{name} must be higher than 0')\n",
        "\n",
        "def exercise1(tp, fp, fn):\n",
        "    try:\n",
        "        # Kiểm tra đầu vào trước khi tính toán\n",
        "        validate_input(tp, 'tp')\n",
        "        validate_input(fp, 'fp')\n",
        "        validate_input(fn, 'fn')\n",
        "\n",
        "        precision = tp / (tp + fp)\n",
        "        recall = tp / (tp + fn)\n",
        "        f1_score = 2 * precision * recall / (precision + recall)\n",
        "        print(f'Precision: {precision}, Recall: {recall}, F1-Score: {f1_score}')\n",
        "    except ValueError as e:\n",
        "        print(e)\n",
        "\n",
        "exercise1( tp =2 , fp =3 , fn =4)\n",
        "exercise1( tp ='a', fp =3 , fn =4)\n",
        "exercise1( tp =2 , fp ='a', fn =4)\n",
        "exercise1 ( tp =2 , fp =3 , fn ='a')\n",
        "exercise1 ( tp =2 , fp =3 , fn =0)\n",
        "exercise1 ( tp =2.1 , fp =3 , fn =0)\n"
      ],
      "metadata": {
        "colab": {
          "base_uri": "https://localhost:8080/"
        },
        "id": "_41R4hGeAB85",
        "outputId": "db85d370-04c5-499f-a211-78b69f7c65b5"
      },
      "execution_count": null,
      "outputs": [
        {
          "output_type": "stream",
          "name": "stdout",
          "text": [
            "Precision: 0.4, Recall: 0.3333333333333333, F1-Score: 0.3636363636363636\n",
            "tp must be int\n",
            "fp must be int\n",
            "fn must be int\n",
            "fn must be higher than 0\n",
            "tp must be int\n"
          ]
        }
      ]
    },
    {
      "cell_type": "code",
      "execution_count": null,
      "metadata": {
        "colab": {
          "base_uri": "https://localhost:8080/"
        },
        "id": "ATF8JQup_tW9",
        "outputId": "37b3eeae-e873-4c1a-ac6d-c58a743e317b"
      },
      "outputs": [
        {
          "output_type": "stream",
          "name": "stdout",
          "text": [
            "Gio chung ta se print Co le thuy yeu!!\n",
            "Gio in nhieu var hon nay: var1 = Co le thuy yeu!!, sap lam duoc roi, hihi Thuy quyet tam rat nhieu \n"
          ]
        }
      ],
      "source": [
        "var1 =\"Co le thuy yeu!!\"\n",
        "var2 = 'sap lam duoc roi'\n",
        "var3 = 'Thuy quyet tam rat nhieu'\n",
        "\n",
        "print('Gio chung ta se print', var1)\n",
        "print(f'Gio in nhieu var hon nay: var1 = {var1}, {var2}, hihi {var3} ')"
      ]
    },
    {
      "cell_type": "markdown",
      "source": [],
      "metadata": {
        "id": "PnwJg3WlYll0"
      }
    },
    {
      "cell_type": "code",
      "source": [
        "import numpy as np\n",
        "def is_number(x):\n",
        "  try:\n",
        "    float(x)\n",
        "  except ValueError:\n",
        "    return ValueError('x must be a number')\n",
        "\n",
        "\n",
        "def Sigmoid_function(x):\n",
        "  sigmoid = 1/(1 + np.exp(-x))\n",
        "  return  f\"sigmoid: f({x}) = {sigmoid}  \"\n",
        "def relu_funtion(x):\n",
        "  if x > 0:  relu = x\n",
        "  else: relu = 0\n",
        "  return f\"relu: f({x}) = {relu}  \"\n",
        "def elu_funtion(x, alpha = 0.01):\n",
        "  if x> 0 : elu = x\n",
        "  else: elu = alpha * (np.exp(x)-1)\n",
        "  return  f\"elu: f({x}) = {elu}\"\n",
        "def exe2(x, function_name):\n",
        "  is_number(x)\n",
        "  if function_name == 'sigmoid':\n",
        "    return Sigmoid_function(x)\n",
        "  elif function_name == 'relu':\n",
        "    return relu_funtion(x)\n",
        "  elif function_name == 'elu':\n",
        "    return elu_funtion(x)\n",
        "  else:\n",
        "    return f\"{function_name} không được support\"\n",
        "exe2(-1.5, \"belu\")"
      ],
      "metadata": {
        "colab": {
          "base_uri": "https://localhost:8080/",
          "height": 36
        },
        "id": "0u1PEheUfQZ8",
        "outputId": "2a72c1ec-a388-4c0d-e707-f22ef4674853"
      },
      "execution_count": null,
      "outputs": [
        {
          "output_type": "execute_result",
          "data": {
            "text/plain": [
              "'belu không được support'"
            ],
            "application/vnd.google.colaboratory.intrinsic+json": {
              "type": "string"
            }
          },
          "metadata": {},
          "execution_count": 11
        }
      ]
    },
    {
      "cell_type": "code",
      "source": [
        "#Bai 3\n",
        "import numpy as np\n",
        "import random\n",
        "import math\n",
        "\n",
        "def execise3(num_sample, loss_name ):\n",
        "  if not isinstance(num_sample,int ):\n",
        "    return 'number of samples must be an integer number'\n",
        "  for i in range(num_sample):\n",
        "    predict = random.uniform(0,10)\n",
        "    target = random.uniform(0,10)\n",
        "  print(f\"predict la {predict}\")\n",
        "  print(f\"target la {target}\")\n",
        "  def mae(predict, target):\n",
        "    mae = abs(predict - target)\n",
        "    return f\"mae = {mae}\"\n",
        "  def mse(predict, target):\n",
        "    mse = (predict - target)**2\n",
        "    return f\"mse = {mse}\"\n",
        "  def rmse(predict, target):\n",
        "    rmse = math.sqrt((predict-target)**2)\n",
        "    return f\"rmse = {rmse}\"\n",
        "  if loss_name == \"mae\":\n",
        "    return mae(predict, target)\n",
        "  if loss_name == \"mse\":\n",
        "    return mse(predict, target)\n",
        "  if loss_name == \"rmse\":\n",
        "    return rmse(predict, target)\n",
        "  else:\n",
        "    return f\"{loss_name} không được support\"\n",
        "execise3(5, \"rmse\")"
      ],
      "metadata": {
        "colab": {
          "base_uri": "https://localhost:8080/",
          "height": 70
        },
        "id": "Yw0y3biQCWpH",
        "outputId": "9869ad86-f95a-41c0-b09d-7d7ed34e5c11"
      },
      "execution_count": null,
      "outputs": [
        {
          "output_type": "stream",
          "name": "stdout",
          "text": [
            "predict la 6.404544275007396\n",
            "target la 1.8074320478057238\n"
          ]
        },
        {
          "output_type": "execute_result",
          "data": {
            "text/plain": [
              "'rmse = 4.597112227201672'"
            ],
            "application/vnd.google.colaboratory.intrinsic+json": {
              "type": "string"
            }
          },
          "metadata": {},
          "execution_count": 22
        }
      ]
    }
  ]
}